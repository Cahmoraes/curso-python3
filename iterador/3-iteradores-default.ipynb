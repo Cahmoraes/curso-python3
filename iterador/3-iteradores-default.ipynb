{
 "cells": [
  {
   "cell_type": "code",
   "execution_count": 30,
   "id": "02ed0518",
   "metadata": {},
   "outputs": [],
   "source": [
    "import itertools"
   ]
  },
  {
   "cell_type": "code",
   "execution_count": 3,
   "id": "57e4e0f7",
   "metadata": {},
   "outputs": [
    {
     "name": "stdout",
     "output_type": "stream",
     "text": [
      "0\n",
      "1\n",
      "2\n",
      "3\n",
      "4\n"
     ]
    }
   ],
   "source": [
    "# Exemplo 1 - Range\n",
    "for i in range(5):\n",
    "    print(i)"
   ]
  },
  {
   "cell_type": "code",
   "execution_count": null,
   "id": "3c860905",
   "metadata": {},
   "outputs": [
    {
     "name": "stdout",
     "output_type": "stream",
     "text": [
      "Maça\n",
      "Banana\n",
      "Laranja\n"
     ]
    }
   ],
   "source": [
    "# Exemplo 2 - Iterar lista\n",
    "frutas = [\"Maça\", \"Banana\", \"Laranja\"]\n",
    "for fruta in frutas:\n",
    "  print(fruta)"
   ]
  },
  {
   "cell_type": "code",
   "execution_count": 18,
   "id": "84e8d315",
   "metadata": {},
   "outputs": [
    {
     "name": "stdout",
     "output_type": "stream",
     "text": [
      "Caique\n",
      "30\n",
      "MA\n"
     ]
    }
   ],
   "source": [
    "# Exemplo 3 - Iterar Dicionário\n",
    "pessoa = {\n",
    "  \"nome\": \"Caique\",\n",
    "  \"idade\": 30,\n",
    "  \"id\": \"MA\"\n",
    "}\n",
    "\n",
    "for chave in pessoa.keys():\n",
    "  print(pessoa[chave])"
   ]
  },
  {
   "cell_type": "code",
   "execution_count": 22,
   "id": "de03743e",
   "metadata": {},
   "outputs": [
    {
     "name": "stdout",
     "output_type": "stream",
     "text": [
      "0 Maça\n",
      "1 Banana\n",
      "2 Laranja\n"
     ]
    }
   ],
   "source": [
    "# Exemplo 4 - Enumerate()\n",
    "for indice, fruta in enumerate(frutas):\n",
    "  print(indice, fruta)"
   ]
  },
  {
   "cell_type": "code",
   "execution_count": 24,
   "id": "5b4cbb50",
   "metadata": {},
   "outputs": [
    {
     "name": "stdout",
     "output_type": "stream",
     "text": [
      "Caique 30\n",
      "Thomas 22\n",
      "Igor 18\n"
     ]
    }
   ],
   "source": [
    "# Exemplo 5 - Zip()\n",
    "nomes = [\"Caique\", \"Thomas\", \"Igor\"]\n",
    "idades = [30, 22, 18]\n",
    "\n",
    "for nome, idade in zip(nomes, idades):\n",
    "  print(nome, idade)"
   ]
  },
  {
   "cell_type": "code",
   "execution_count": 31,
   "id": "e605b284",
   "metadata": {},
   "outputs": [
    {
     "name": "stdout",
     "output_type": "stream",
     "text": [
      "10\n",
      "12\n",
      "14\n",
      "16\n",
      "18\n",
      "20\n"
     ]
    }
   ],
   "source": [
    "# Exemplo 6 - Itertools\n",
    "for i in itertools.count(start=10, step=2):\n",
    "  if i > 20:\n",
    "    break\n",
    "  print(i)"
   ]
  }
 ],
 "metadata": {
  "kernelspec": {
   "display_name": "Python 3",
   "language": "python",
   "name": "python3"
  },
  "language_info": {
   "codemirror_mode": {
    "name": "ipython",
    "version": 3
   },
   "file_extension": ".py",
   "mimetype": "text/x-python",
   "name": "python",
   "nbconvert_exporter": "python",
   "pygments_lexer": "ipython3",
   "version": "3.10.12"
  }
 },
 "nbformat": 4,
 "nbformat_minor": 5
}
