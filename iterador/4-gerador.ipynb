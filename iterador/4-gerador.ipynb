{
 "cells": [
  {
   "cell_type": "markdown",
   "id": "02a7308a",
   "metadata": {},
   "source": [
    "  # Yield\n",
    "  É uma palavra chave para criar geradores. Quando você usa ele em uma função, você transforma a função em um gerador, que é um tipo especial de um iterador.\n",
    "  \n",
    "  Return: \n",
    "  Quando usado, uma função é encerrada e o valor é retornado. Chamadas subsequentes à função iniciam a execução novamente do código\n",
    "\n",
    "  Yield:\n",
    "  Pode ser chamada novamente e retorna a execução do ponto onde foi parado\n"
   ]
  },
  {
   "cell_type": "code",
   "execution_count": 3,
   "id": "cca43260",
   "metadata": {},
   "outputs": [],
   "source": [
    "def numeros_impares(n: int):\n",
    "  for i in range(1, n+1, 2):\n",
    "    yield i"
   ]
  },
  {
   "cell_type": "code",
   "execution_count": 4,
   "id": "04578d83",
   "metadata": {},
   "outputs": [
    {
     "name": "stdout",
     "output_type": "stream",
     "text": [
      "1\n",
      "3\n",
      "5\n",
      "7\n",
      "9\n"
     ]
    }
   ],
   "source": [
    "for numero in numeros_impares(10):\n",
    "  print(numero)"
   ]
  }
 ],
 "metadata": {
  "kernelspec": {
   "display_name": "Python 3",
   "language": "python",
   "name": "python3"
  },
  "language_info": {
   "codemirror_mode": {
    "name": "ipython",
    "version": 3
   },
   "file_extension": ".py",
   "mimetype": "text/x-python",
   "name": "python",
   "nbconvert_exporter": "python",
   "pygments_lexer": "ipython3",
   "version": "3.10.12"
  }
 },
 "nbformat": 4,
 "nbformat_minor": 5
}
