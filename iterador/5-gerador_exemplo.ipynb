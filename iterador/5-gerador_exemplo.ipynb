{
 "cells": [
  {
   "cell_type": "code",
   "execution_count": 19,
   "id": "1b2cbbf9",
   "metadata": {},
   "outputs": [],
   "source": [
    "def linhas_com_numeros_de_palavras(arquivo, numero):\n",
    "  with open(file=arquivo, mode=\"r\", encoding=\"utf-8\") as file:\n",
    "    for linha in file:\n",
    "      if len(linha.split()) == numero:\n",
    "        yield linha.strip()"
   ]
  },
  {
   "cell_type": "code",
   "execution_count": 31,
   "id": "3e7d41fa",
   "metadata": {},
   "outputs": [
    {
     "name": "stdout",
     "output_type": "stream",
     "text": [
      "Python é fácil\n",
      "Ruby é interessante\n"
     ]
    }
   ],
   "source": [
    "arquivo = \"./texto.txt\"\n",
    "numero_palavras = 3\n",
    "for linha in linhas_com_numeros_de_palavras(arquivo, numero_palavras):\n",
    "  print(linha)"
   ]
  }
 ],
 "metadata": {
  "kernelspec": {
   "display_name": "Python 3",
   "language": "python",
   "name": "python3"
  },
  "language_info": {
   "codemirror_mode": {
    "name": "ipython",
    "version": 3
   },
   "file_extension": ".py",
   "mimetype": "text/x-python",
   "name": "python",
   "nbconvert_exporter": "python",
   "pygments_lexer": "ipython3",
   "version": "3.10.12"
  }
 },
 "nbformat": 4,
 "nbformat_minor": 5
}
