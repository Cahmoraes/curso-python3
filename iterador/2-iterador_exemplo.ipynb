{
 "cells": [
  {
   "cell_type": "code",
   "execution_count": null,
   "id": "34c13869",
   "metadata": {},
   "outputs": [],
   "source": [
    "class NomeComLetra:\n",
    "  def __init__(self, nomes, letra: str):\n",
    "    self.nomes = nomes\n",
    "    self.letra = letra\n",
    "    self.index = 0\n",
    "  \n",
    "  def __iter__(self):\n",
    "    return self\n",
    "  \n",
    "  def __next__(self):\n",
    "    while self.index < len(self.nomes):\n",
    "       nome: str = self.nomes[self.index]\n",
    "       self.index += 1\n",
    "       if nome.startswith(self.letra):\n",
    "         return nome\n",
    "    print(\"fim\")\n",
    "    raise StopIteration"
   ]
  },
  {
   "cell_type": "code",
   "execution_count": 36,
   "id": "f75d7cf6",
   "metadata": {},
   "outputs": [
    {
     "name": "stdout",
     "output_type": "stream",
     "text": [
      "fim\n"
     ]
    }
   ],
   "source": [
    "lista_nomes = [\"Caique\", \"Thomas\", \"Igor\", \"Isabella\", \"Bolt\"]\n",
    "letra = \"Z\"\n",
    "\n",
    "iterador_nomes = NomeComLetra(nomes=lista_nomes, letra=letra)\n",
    "\n",
    "try:\n",
    "  for nome in iterador_nomes:\n",
    "    print(nome) \n",
    "except StopIteration as e:\n",
    "  print(e)\n",
    "  \n"
   ]
  }
 ],
 "metadata": {
  "kernelspec": {
   "display_name": "Python 3",
   "language": "python",
   "name": "python3"
  },
  "language_info": {
   "codemirror_mode": {
    "name": "ipython",
    "version": 3
   },
   "file_extension": ".py",
   "mimetype": "text/x-python",
   "name": "python",
   "nbconvert_exporter": "python",
   "pygments_lexer": "ipython3",
   "version": "3.10.12"
  }
 },
 "nbformat": 4,
 "nbformat_minor": 5
}
