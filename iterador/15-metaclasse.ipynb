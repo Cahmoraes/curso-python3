{
 "cells": [
  {
   "cell_type": "markdown",
   "id": "2d49a322",
   "metadata": {},
   "source": [
    "Metaclasse\n",
    "- Cria classe de forma dinâmica\n",
    "- Pode ser útil na criação de frameworks onde as classes precisam ter um comportamento específico."
   ]
  },
  {
   "cell_type": "code",
   "execution_count": 61,
   "id": "e8c5653b",
   "metadata": {},
   "outputs": [],
   "source": [
    "class MeuMeta(type):\n",
    "  def __new__(cls, nome, bases, dct):\n",
    "    dct[\"novo_atributo\"] = \"Valor adicionado pela metaclasse\"\n",
    "    return super().__new__(cls, nome, bases, dct)"
   ]
  },
  {
   "cell_type": "code",
   "execution_count": 62,
   "id": "a0217460",
   "metadata": {},
   "outputs": [],
   "source": [
    "class MinhaClasse(metaclass=MeuMeta):\n",
    "  pass"
   ]
  },
  {
   "cell_type": "code",
   "execution_count": 63,
   "id": "77d809f6",
   "metadata": {},
   "outputs": [
    {
     "data": {
      "text/plain": [
       "'Valor adicionado pela metaclasse'"
      ]
     },
     "execution_count": 63,
     "metadata": {},
     "output_type": "execute_result"
    }
   ],
   "source": [
    "obj = MinhaClasse()\n",
    "valor: str = getattr(obj, \"novo_atributo\")\n",
    "# assert valor is not None\n",
    "valor"
   ]
  },
  {
   "cell_type": "code",
   "execution_count": 64,
   "id": "fc31a66d",
   "metadata": {},
   "outputs": [],
   "source": [
    "class ValidadorMeta(type):\n",
    "  def __new__(cls, nome, bases, dict: dict):\n",
    "    validacoes = dict.get(\"validacoes\", {})\n",
    "    for attr, tipo in validacoes.items():\n",
    "      if not callable(tipo):\n",
    "        raise TypeError(f\"O tipo de validação para {attr} deve ser uma função\")\n",
    "      # Add função de validação\n",
    "      def valida_func(self, value, attr=attr, tipo=tipo):\n",
    "        if not isinstance(value, tipo):\n",
    "          raise ValueError(f\"{attr} deve ser do tipo {tipo.__name__}\")\n",
    "        self.__dict__[attr] = value\n",
    "      # Renomeia a função para evitar problemas de escopo\n",
    "      valida_func.__name__ = f\"set_{attr}\"\n",
    "      dict[f\"set_{attr}\"] = valida_func\n",
    "    return super().__new__(cls, nome, bases, dict)"
   ]
  },
  {
   "cell_type": "code",
   "execution_count": 65,
   "id": "cac3ea22",
   "metadata": {},
   "outputs": [],
   "source": [
    "class Usuario(metaclass=ValidadorMeta):\n",
    "  validacoes = {\n",
    "    \"nome\": str,\n",
    "    \"idade\": int\n",
    "  }\n",
    "  \n",
    "  def __init__(self, nome, idade):\n",
    "    self.set_nome(nome)\n",
    "    self.set_idade(idade)"
   ]
  },
  {
   "cell_type": "code",
   "execution_count": 66,
   "id": "ff7f72a2",
   "metadata": {},
   "outputs": [
    {
     "name": "stdout",
     "output_type": "stream",
     "text": [
      "Nome: Caique Idade: 30\n"
     ]
    }
   ],
   "source": [
    "try:\n",
    "  user = Usuario(\"Caique\", 30)\n",
    "  print(f\"Nome: {user.nome} Idade: {user.idade}\")\n",
    "  # Tentar adicionar valores inválidos\n",
    "  user.set_idade(30) \n",
    "except ValueError as error:\n",
    "  print(error)"
   ]
  }
 ],
 "metadata": {
  "kernelspec": {
   "display_name": ".venv",
   "language": "python",
   "name": "python3"
  },
  "language_info": {
   "codemirror_mode": {
    "name": "ipython",
    "version": 3
   },
   "file_extension": ".py",
   "mimetype": "text/x-python",
   "name": "python",
   "nbconvert_exporter": "python",
   "pygments_lexer": "ipython3",
   "version": "3.10.12"
  }
 },
 "nbformat": 4,
 "nbformat_minor": 5
}
