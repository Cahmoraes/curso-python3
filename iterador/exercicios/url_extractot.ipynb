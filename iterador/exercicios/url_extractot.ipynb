{
 "cells": [
  {
   "cell_type": "code",
   "execution_count": 9,
   "id": "d298b222",
   "metadata": {},
   "outputs": [],
   "source": [
    "# Extração de URLs\n",
    "\n",
    "import re\n"
   ]
  },
  {
   "cell_type": "code",
   "execution_count": 128,
   "id": "17ec26a8",
   "metadata": {},
   "outputs": [
    {
     "name": "stdout",
     "output_type": "stream",
     "text": [
      "['http://www.example-http.com.rss', 'https://www.example-https.com.rss']\n"
     ]
    }
   ],
   "source": [
    "\n",
    "def url_extractor(aString: str):\n",
    "  patter = r\"https?://(?:www\\.)?[-\\w.]+\"\n",
    "  extract = re.findall(patter, aString)\n",
    "  return extract\n",
    "\n",
    "text = \"sites: http://www.example-http.com.rss https://www.example-https.com.rss\"\n",
    "print(url_extractor(text))"
   ]
  }
 ],
 "metadata": {
  "kernelspec": {
   "display_name": "Python 3",
   "language": "python",
   "name": "python3"
  },
  "language_info": {
   "codemirror_mode": {
    "name": "ipython",
    "version": 3
   },
   "file_extension": ".py",
   "mimetype": "text/x-python",
   "name": "python",
   "nbconvert_exporter": "python",
   "pygments_lexer": "ipython3",
   "version": "3.10.12"
  }
 },
 "nbformat": 4,
 "nbformat_minor": 5
}
