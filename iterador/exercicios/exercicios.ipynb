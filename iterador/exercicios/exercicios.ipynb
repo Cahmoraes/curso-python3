{
 "cells": [
  {
   "cell_type": "code",
   "execution_count": 1,
   "id": "41ed4519",
   "metadata": {},
   "outputs": [
    {
     "data": {
      "text/plain": [
       "'\\nExercício 1: Extração de URLs\\n\\nEnunciado: Escreva uma função que recebe um texto e extrai todas as\\nURLs presentes. Considere que uma URL pode começar com \"http://\" ou \"https://\"\\ne deve incluir um domínio seguido por um sufixo (por exemplo, \".com\", \".org\").\\n\\nExercício 2: Validação de Senhas\\n\\nEnunciado: Crie uma função que valide senhas. Uma senha é considerada válida\\nse tiver pelo menos 8 caracteres, pelo menos uma letra maiúscula, uma letra\\nminúscula e um número. Retorne True se a senha for válida e False caso contrário.\\n\\nExercício 3: Contagem de Palavras\\n\\nEnunciado: Implemente uma função que conte o número de palavras em um texto.\\nConsidere palavras como sequências de caracteres alfabéticos (ou alfanuméricos)\\nque são separadas por espaços em branco ou pontuação.\\n'"
      ]
     },
     "execution_count": 1,
     "metadata": {},
     "output_type": "execute_result"
    }
   ],
   "source": [
    "\"\"\"\n",
    "Exercício 1: Extração de URLs\n",
    "\n",
    "Enunciado: Escreva uma função que recebe um texto e extrai todas as\n",
    "URLs presentes. Considere que uma URL pode começar com \"http://\" ou \"https://\"\n",
    "e deve incluir um domínio seguido por um sufixo (por exemplo, \".com\", \".org\").\n",
    "\n",
    "Exercício 2: Validação de Senhas\n",
    "\n",
    "Enunciado: Crie uma função que valide senhas. Uma senha é considerada válida\n",
    "se tiver pelo menos 8 caracteres, pelo menos uma letra maiúscula, uma letra\n",
    "minúscula e um número. Retorne True se a senha for válida e False caso contrário.\n",
    "\n",
    "Exercício 3: Contagem de Palavras\n",
    "\n",
    "Enunciado: Implemente uma função que conte o número de palavras em um texto.\n",
    "Considere palavras como sequências de caracteres alfabéticos (ou alfanuméricos)\n",
    "que são separadas por espaços em branco ou pontuação.\n",
    "\"\"\""
   ]
  },
  {
   "cell_type": "code",
   "execution_count": 2,
   "id": "3dbb9601",
   "metadata": {},
   "outputs": [],
   "source": [
    "import re"
   ]
  },
  {
   "cell_type": "code",
   "execution_count": 5,
   "id": "f96f9e5e",
   "metadata": {},
   "outputs": [],
   "source": [
    "def extrair_urls(texto):\n",
    "  padrao_url = r\"https?://[a-zA-Z0-9.-]+\\.[a-zA-Z]{2,}\"\n",
    "  urls = re.findall(padrao_url, texto)\n",
    "  return urls"
   ]
  },
  {
   "cell_type": "code",
   "execution_count": 7,
   "id": "48812a17",
   "metadata": {},
   "outputs": [
    {
     "name": "stdout",
     "output_type": "stream",
     "text": [
      "['https://www.exemplo.com', 'http://blog.exemplo.org', 'https://contato.exemplo.com.br']\n"
     ]
    }
   ],
   "source": [
    "texto_exemplo = \"\"\"\n",
    "Visite nosso site em https://www.exemplo.com\n",
    "http://blog.exemplo.org para mais informações\n",
    "Entre em contato conosco em https://contato.exemplo.com.br\n",
    "\"\"\"\n",
    "\n",
    "urls_encontradas = extrair_urls(texto_exemplo)\n",
    "print(urls_encontradas)"
   ]
  },
  {
   "cell_type": "code",
   "execution_count": 8,
   "id": "057f2d02",
   "metadata": {},
   "outputs": [],
   "source": [
    "def validar_senha(senha):\n",
    "  padrao_senha = r\"^(?=.*[a-z])(?=.*[A-Z])(?=.*\\d)[A-Za-z\\d]{8,}$\"\n",
    "  return bool(re.match(padrao_senha, senha))"
   ]
  },
  {
   "cell_type": "code",
   "execution_count": 10,
   "id": "3d6b1ab0",
   "metadata": {},
   "outputs": [
    {
     "name": "stdout",
     "output_type": "stream",
     "text": [
      "A senha Senha123 é válida? True\n",
      "A senha senha123 é válida? False\n",
      "A senha SENHA123 é válida? False\n",
      "A senha Senha! é válida? False\n",
      "A senha Valida1 é válida? False\n"
     ]
    }
   ],
   "source": [
    "senhas = [\"Senha123\", \"senha123\", \"SENHA123\", \"Senha!\", \"Valida1\"]\n",
    "\n",
    "for senha in senhas:\n",
    "  print(f\"A senha {senha} é válida? {validar_senha(senha)}\")"
   ]
  },
  {
   "cell_type": "code",
   "execution_count": 11,
   "id": "623f7935",
   "metadata": {},
   "outputs": [],
   "source": [
    "def contar_palavras(texto):\n",
    "  padrao_palavra = r\"\\b\\w+\\b\"\n",
    "  palavras = re.findall(padrao_palavra, texto)\n",
    "  return len(palavras)"
   ]
  },
  {
   "cell_type": "code",
   "execution_count": 12,
   "id": "6e4c8d20",
   "metadata": {},
   "outputs": [
    {
     "name": "stdout",
     "output_type": "stream",
     "text": [
      "2\n"
     ]
    }
   ],
   "source": [
    "texto_exemplo = \"Olá mundo!\"\n",
    "numero_palavras = contar_palavras(texto_exemplo)\n",
    "print(numero_palavras)"
   ]
  }
 ],
 "metadata": {
  "kernelspec": {
   "display_name": "Python 3",
   "language": "python",
   "name": "python3"
  },
  "language_info": {
   "codemirror_mode": {
    "name": "ipython",
    "version": 3
   },
   "file_extension": ".py",
   "mimetype": "text/x-python",
   "name": "python",
   "nbconvert_exporter": "python",
   "pygments_lexer": "ipython3",
   "version": "3.10.12"
  }
 },
 "nbformat": 4,
 "nbformat_minor": 5
}
