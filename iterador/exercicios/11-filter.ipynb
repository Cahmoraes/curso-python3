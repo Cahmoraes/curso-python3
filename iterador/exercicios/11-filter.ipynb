{
 "cells": [
  {
   "cell_type": "code",
   "execution_count": 10,
   "id": "a0dcc557",
   "metadata": {},
   "outputs": [],
   "source": [
    "def e_par(x):\n",
    "  return x % 2 == 0"
   ]
  },
  {
   "cell_type": "code",
   "execution_count": 7,
   "id": "f7b14ac0",
   "metadata": {},
   "outputs": [],
   "source": [
    "numeros = [1, 2, 3, 4, 5, 6]"
   ]
  },
  {
   "cell_type": "code",
   "execution_count": 13,
   "id": "fb543afa",
   "metadata": {},
   "outputs": [
    {
     "data": {
      "text/plain": [
       "[2, 4, 6]"
      ]
     },
     "execution_count": 13,
     "metadata": {},
     "output_type": "execute_result"
    }
   ],
   "source": [
    "numeros_pares = filter(e_par, numeros)\n",
    "list(numeros_pares)"
   ]
  },
  {
   "cell_type": "code",
   "execution_count": 15,
   "id": "8d8fef67",
   "metadata": {},
   "outputs": [],
   "source": [
    "produtos = [\n",
    "  {\"nome\": \"Produto A\", \"preco\": 10.0, \"em_estoque\": True},\n",
    "  {\"nome\": \"Produto B\", \"preco\": 20.0, \"em_estoque\": False},\n",
    "  {\"nome\": \"Produto C\", \"preco\": 30.0, \"em_estoque\": True},\n",
    "  {\"nome\": \"Produto D\", \"preco\": 40.0, \"em_estoque\": False}\n",
    "]"
   ]
  },
  {
   "cell_type": "code",
   "execution_count": 31,
   "id": "ab73934d",
   "metadata": {},
   "outputs": [],
   "source": [
    "def produto_em_estoque(produto):\n",
    "  print(produto)\n",
    "  return produto.get(\"em_estoque\")"
   ]
  },
  {
   "cell_type": "code",
   "execution_count": 33,
   "id": "38560727",
   "metadata": {},
   "outputs": [
    {
     "name": "stdout",
     "output_type": "stream",
     "text": [
      "{'nome': 'Produto A', 'preco': 10.0, 'em_estoque': True}\n",
      "{'nome': 'Produto B', 'preco': 20.0, 'em_estoque': False}\n",
      "{'nome': 'Produto C', 'preco': 30.0, 'em_estoque': True}\n",
      "{'nome': 'Produto D', 'preco': 40.0, 'em_estoque': False}\n"
     ]
    },
    {
     "data": {
      "text/plain": [
       "[{'nome': 'Produto A', 'preco': 10.0, 'em_estoque': True},\n",
       " {'nome': 'Produto C', 'preco': 30.0, 'em_estoque': True}]"
      ]
     },
     "execution_count": 33,
     "metadata": {},
     "output_type": "execute_result"
    }
   ],
   "source": [
    "produtos_disponiveis = filter(produto_em_estoque, produtos)\n",
    "list(produtos_disponiveis)"
   ]
  },
  {
   "cell_type": "code",
   "execution_count": 34,
   "id": "4529503c",
   "metadata": {},
   "outputs": [],
   "source": [
    "transacoes = [200.0, -50.0, 75.0, -3.0, 100.0, -10.0]"
   ]
  },
  {
   "cell_type": "code",
   "execution_count": 36,
   "id": "227f2c99",
   "metadata": {},
   "outputs": [],
   "source": [
    "def e_despesa(transacao):\n",
    "  return transacao < 0"
   ]
  },
  {
   "cell_type": "code",
   "execution_count": 37,
   "id": "ebe152ea",
   "metadata": {},
   "outputs": [
    {
     "data": {
      "text/plain": [
       "[-50.0, -3.0, -10.0]"
      ]
     },
     "execution_count": 37,
     "metadata": {},
     "output_type": "execute_result"
    }
   ],
   "source": [
    "despesas = filter(e_despesa, transacoes)\n",
    "list(despesas)"
   ]
  }
 ],
 "metadata": {
  "kernelspec": {
   "display_name": "Python 3",
   "language": "python",
   "name": "python3"
  },
  "language_info": {
   "codemirror_mode": {
    "name": "ipython",
    "version": 3
   },
   "file_extension": ".py",
   "mimetype": "text/x-python",
   "name": "python",
   "nbconvert_exporter": "python",
   "pygments_lexer": "ipython3",
   "version": "3.10.12"
  }
 },
 "nbformat": 4,
 "nbformat_minor": 5
}
