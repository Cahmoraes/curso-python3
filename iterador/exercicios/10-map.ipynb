{
 "cells": [
  {
   "cell_type": "markdown",
   "id": "4f9a5852",
   "metadata": {},
   "source": [
    "Map\n",
    "- Função que aplica uma função a todos os itens de um iterável (uma lista)"
   ]
  },
  {
   "cell_type": "code",
   "execution_count": 1,
   "id": "9363d381",
   "metadata": {},
   "outputs": [],
   "source": [
    "def quadrado(x):\n",
    "  return x * 2"
   ]
  },
  {
   "cell_type": "code",
   "execution_count": 2,
   "id": "a2779bdb",
   "metadata": {},
   "outputs": [],
   "source": [
    "numeros = [1, 2, 3, 4, 5]"
   ]
  },
  {
   "cell_type": "code",
   "execution_count": 4,
   "id": "4ab9ea4a",
   "metadata": {},
   "outputs": [
    {
     "name": "stdout",
     "output_type": "stream",
     "text": [
      "2\n",
      "4\n",
      "6\n",
      "8\n",
      "10\n"
     ]
    }
   ],
   "source": [
    "for n in numeros:\n",
    "  print(quadrado(n))"
   ]
  },
  {
   "cell_type": "code",
   "execution_count": 10,
   "id": "b254691f",
   "metadata": {},
   "outputs": [
    {
     "data": {
      "text/plain": [
       "[2, 4, 6, 8, 10]"
      ]
     },
     "execution_count": 10,
     "metadata": {},
     "output_type": "execute_result"
    }
   ],
   "source": [
    "resultados = map(quadrado, numeros)\n",
    "list(resultados)"
   ]
  },
  {
   "cell_type": "code",
   "execution_count": 11,
   "id": "ccf96980",
   "metadata": {},
   "outputs": [],
   "source": [
    "def celsius_para_fahrenheit(c):\n",
    "  return (c * 9/5) + 32"
   ]
  },
  {
   "cell_type": "code",
   "execution_count": 12,
   "id": "38e6abc6",
   "metadata": {},
   "outputs": [],
   "source": [
    "temperaturas_celsius = [0, 20, 37, 100]"
   ]
  },
  {
   "cell_type": "code",
   "execution_count": 14,
   "id": "b6b181be",
   "metadata": {},
   "outputs": [
    {
     "data": {
      "text/plain": [
       "[32.0, 68.0, 98.6, 212.0]"
      ]
     },
     "execution_count": 14,
     "metadata": {},
     "output_type": "execute_result"
    }
   ],
   "source": [
    "temperaturas_fahrenheit = map(celsius_para_fahrenheit, temperaturas_celsius)\n",
    "list(temperaturas_fahrenheit)"
   ]
  },
  {
   "cell_type": "code",
   "execution_count": 16,
   "id": "55e9be51",
   "metadata": {},
   "outputs": [],
   "source": [
    "def normalizar_nome(nome: str):\n",
    "  return nome.strip().lower()"
   ]
  },
  {
   "cell_type": "code",
   "execution_count": 17,
   "id": "a017228e",
   "metadata": {},
   "outputs": [],
   "source": [
    "nomes = [\"   Ana\", \"João\", \"MARIA \", \"pedro\", \"LuCaS \"]"
   ]
  },
  {
   "cell_type": "code",
   "execution_count": 18,
   "id": "42e9f33a",
   "metadata": {},
   "outputs": [
    {
     "data": {
      "text/plain": [
       "['ana', 'joão', 'maria', 'pedro', 'lucas']"
      ]
     },
     "execution_count": 18,
     "metadata": {},
     "output_type": "execute_result"
    }
   ],
   "source": [
    "nomes_normalizados = map(normalizar_nome, nomes)\n",
    "list(nomes_normalizados)"
   ]
  }
 ],
 "metadata": {
  "kernelspec": {
   "display_name": "Python 3",
   "language": "python",
   "name": "python3"
  },
  "language_info": {
   "codemirror_mode": {
    "name": "ipython",
    "version": 3
   },
   "file_extension": ".py",
   "mimetype": "text/x-python",
   "name": "python",
   "nbconvert_exporter": "python",
   "pygments_lexer": "ipython3",
   "version": "3.10.12"
  }
 },
 "nbformat": 4,
 "nbformat_minor": 5
}
