{
 "cells": [
  {
   "cell_type": "markdown",
   "id": "8320bedb",
   "metadata": {},
   "source": [
    "Async\n",
    "- Permite que você escreva código que pode ser executado de forma não bloqueante\n",
    "- Facilita a execução de múltiplas operações assíncronas"
   ]
  },
  {
   "cell_type": "code",
   "execution_count": 11,
   "id": "ae5277eb",
   "metadata": {},
   "outputs": [],
   "source": [
    "import asyncio\n",
    "import aiohttp"
   ]
  },
  {
   "cell_type": "code",
   "execution_count": null,
   "id": "cae70d3a",
   "metadata": {},
   "outputs": [],
   "source": [
    "async def tarefa(nome, tempo):\n",
    "  print(f\"Tarefa {nome} iniciada.\")\n",
    "  await asyncio.sleep(tempo)\n",
    "  print(f\"Tarefa {nome} concluída.\")"
   ]
  },
  {
   "cell_type": "code",
   "execution_count": 4,
   "id": "fc127293",
   "metadata": {},
   "outputs": [],
   "source": [
    "async def main():\n",
    "  await asyncio.gather(\n",
    "    tarefa(\"A\", 2),\n",
    "    tarefa(\"B\", 1),\n",
    "  )"
   ]
  },
  {
   "cell_type": "code",
   "execution_count": 22,
   "id": "5b6177a1",
   "metadata": {},
   "outputs": [
    {
     "name": "stdout",
     "output_type": "stream",
     "text": [
      "Tarefa A iniciada.\n",
      "Tarefa B iniciada.\n",
      "Tarefa B concluída.\n",
      "Tarefa A concluída.\n"
     ]
    }
   ],
   "source": [
    "await main()"
   ]
  },
  {
   "cell_type": "code",
   "execution_count": 12,
   "id": "3d53540d",
   "metadata": {},
   "outputs": [],
   "source": [
    "API_BASE = \"https://jsonplaceholder.typicode.com\"\n",
    "\n",
    "async def buscar_usuario(session: aiohttp.ClientSession, user_id: int):\n",
    "  url = f\"{API_BASE}/users/{user_id}\"\n",
    "  async with session.get(url) as response:\n",
    "    response.raise_for_status()\n",
    "    return await response.json()"
   ]
  },
  {
   "cell_type": "code",
   "execution_count": 15,
   "id": "b8febd2f",
   "metadata": {},
   "outputs": [],
   "source": [
    "async def initialize(ids: list[int]):\n",
    "  timeout = aiohttp.ClientTimeout(total=10)\n",
    "  async with aiohttp.ClientSession(\n",
    "    timeout=timeout,\n",
    "    raise_for_status=True,\n",
    "  ) as session:\n",
    "    tasks = [buscar_usuario(session, id) for id in ids]\n",
    "    results = await asyncio.gather(*tasks)\n",
    "    print(results)\n",
    "  "
   ]
  },
  {
   "cell_type": "code",
   "execution_count": 16,
   "id": "3ce8a342",
   "metadata": {},
   "outputs": [
    {
     "name": "stdout",
     "output_type": "stream",
     "text": [
      "[{'id': 1, 'name': 'Leanne Graham', 'username': 'Bret', 'email': 'Sincere@april.biz', 'address': {'street': 'Kulas Light', 'suite': 'Apt. 556', 'city': 'Gwenborough', 'zipcode': '92998-3874', 'geo': {'lat': '-37.3159', 'lng': '81.1496'}}, 'phone': '1-770-736-8031 x56442', 'website': 'hildegard.org', 'company': {'name': 'Romaguera-Crona', 'catchPhrase': 'Multi-layered client-server neural-net', 'bs': 'harness real-time e-markets'}}, {'id': 2, 'name': 'Ervin Howell', 'username': 'Antonette', 'email': 'Shanna@melissa.tv', 'address': {'street': 'Victor Plains', 'suite': 'Suite 879', 'city': 'Wisokyburgh', 'zipcode': '90566-7771', 'geo': {'lat': '-43.9509', 'lng': '-34.4618'}}, 'phone': '010-692-6593 x09125', 'website': 'anastasia.net', 'company': {'name': 'Deckow-Crist', 'catchPhrase': 'Proactive didactic contingency', 'bs': 'synergize scalable supply-chains'}}, {'id': 3, 'name': 'Clementine Bauch', 'username': 'Samantha', 'email': 'Nathan@yesenia.net', 'address': {'street': 'Douglas Extension', 'suite': 'Suite 847', 'city': 'McKenziehaven', 'zipcode': '59590-4157', 'geo': {'lat': '-68.6102', 'lng': '-47.0653'}}, 'phone': '1-463-123-4447', 'website': 'ramiro.info', 'company': {'name': 'Romaguera-Jacobson', 'catchPhrase': 'Face to face bifurcated interface', 'bs': 'e-enable strategic applications'}}]\n"
     ]
    }
   ],
   "source": [
    "await initialize([1, 2, 3])"
   ]
  }
 ],
 "metadata": {
  "kernelspec": {
   "display_name": ".venv",
   "language": "python",
   "name": "python3"
  },
  "language_info": {
   "codemirror_mode": {
    "name": "ipython",
    "version": 3
   },
   "file_extension": ".py",
   "mimetype": "text/x-python",
   "name": "python",
   "nbconvert_exporter": "python",
   "pygments_lexer": "ipython3",
   "version": "3.10.12"
  }
 },
 "nbformat": 4,
 "nbformat_minor": 5
}
