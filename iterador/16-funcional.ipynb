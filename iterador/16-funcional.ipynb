{
 "cells": [
  {
   "cell_type": "markdown",
   "id": "c9771fb1",
   "metadata": {},
   "source": [
    "Programação funcional\n",
    "- Trata a computação como a avaliação de funções matemáticas e evita estados e dados mutáveis"
   ]
  },
  {
   "cell_type": "code",
   "execution_count": 16,
   "id": "2a082c39",
   "metadata": {},
   "outputs": [],
   "source": [
    "from typing import Callable\n",
    "# Função de alta ordem - é uma função que recebe outra função como argumento\n",
    "def quadrado(x: float):\n",
    "  return x * x\n",
    "\n",
    "def aplicar_funcao(funcao: Callable, lista: list[float]):\n",
    "   return [funcao(x) for x in lista]"
   ]
  },
  {
   "cell_type": "code",
   "execution_count": 17,
   "id": "287614f2",
   "metadata": {},
   "outputs": [
    {
     "data": {
      "text/plain": [
       "[1, 4, 9, 16, 25]"
      ]
     },
     "execution_count": 17,
     "metadata": {},
     "output_type": "execute_result"
    }
   ],
   "source": [
    "numeros: list[float] = [1, 2, 3, 4, 5]\n",
    "resultados = aplicar_funcao(quadrado, numeros)\n",
    "resultados\n"
   ]
  },
  {
   "cell_type": "code",
   "execution_count": 18,
   "id": "22042e88",
   "metadata": {},
   "outputs": [],
   "source": [
    "# Dados de exemplo\n",
    "usuarios = [\n",
    "  {\"nome\": \"Alice\", \"idade\": 30},\n",
    "  {\"nome\": \"Bob\", \"idade\": 25},\n",
    "  {\"nome\": \"Charlie\", \"idade\": 35},\n",
    "  {\"nome\": \"Diana\", \"idade\": 28},\n",
    "]"
   ]
  },
  {
   "cell_type": "code",
   "execution_count": 20,
   "id": "aaac001b",
   "metadata": {},
   "outputs": [],
   "source": [
    "def extrair_nomes(usuarios):\n",
    "  return list(map(lambda u: u[\"nome\"], usuarios))\n",
    "\n",
    "def filtrar_maiores_que(usuarios, idade):\n",
    "  return list(filter(lambda u: u[\"idade\"] > idade, usuarios))\n",
    "\n",
    "def calcular_media_idade(usuarios):\n",
    "  if not usuarios:\n",
    "    return 0\n",
    "  total_idade = sum(map(lambda u: u[\"idade\"], usuarios))\n",
    "  return total_idade / len(usuarios)"
   ]
  },
  {
   "cell_type": "code",
   "execution_count": 22,
   "id": "8d8bd516",
   "metadata": {},
   "outputs": [
    {
     "data": {
      "text/plain": [
       "[{'nome': 'Alice', 'idade': 30},\n",
       " {'nome': 'Charlie', 'idade': 35},\n",
       " {'nome': 'Diana', 'idade': 28}]"
      ]
     },
     "execution_count": 22,
     "metadata": {},
     "output_type": "execute_result"
    }
   ],
   "source": [
    "usuarios_maiores_que_27 = filtrar_maiores_que(usuarios, 27)\n",
    "usuarios_maiores_que_27"
   ]
  },
  {
   "cell_type": "code",
   "execution_count": 24,
   "id": "c3229e3d",
   "metadata": {},
   "outputs": [
    {
     "data": {
      "text/plain": [
       "['Alice', 'Charlie', 'Diana']"
      ]
     },
     "execution_count": 24,
     "metadata": {},
     "output_type": "execute_result"
    }
   ],
   "source": [
    "nomes_maiores_que_27 = extrair_nomes(usuarios_maiores_que_27)\n",
    "nomes_maiores_que_27"
   ]
  },
  {
   "cell_type": "code",
   "execution_count": 25,
   "id": "cead9ae8",
   "metadata": {},
   "outputs": [
    {
     "data": {
      "text/plain": [
       "31.0"
      ]
     },
     "execution_count": 25,
     "metadata": {},
     "output_type": "execute_result"
    }
   ],
   "source": [
    "media_idade = calcular_media_idade(usuarios_maiores_que_27)\n",
    "media_idade"
   ]
  },
  {
   "cell_type": "code",
   "execution_count": 26,
   "id": "d0cbff69",
   "metadata": {},
   "outputs": [],
   "source": [
    "from functools import lru_cache"
   ]
  },
  {
   "cell_type": "code",
   "execution_count": null,
   "id": "493d9d3e",
   "metadata": {},
   "outputs": [],
   "source": []
  },
  {
   "cell_type": "code",
   "execution_count": 29,
   "id": "973b9a50",
   "metadata": {},
   "outputs": [],
   "source": [
    "@lru_cache(maxsize=None)\n",
    "def fibonacci(n):\n",
    "  if n <= 1:\n",
    "    return n\n",
    "  return fibonacci(n-1) + fibonacci(n - 2)"
   ]
  },
  {
   "cell_type": "code",
   "execution_count": 30,
   "id": "419b0f1a",
   "metadata": {},
   "outputs": [
    {
     "name": "stdout",
     "output_type": "stream",
     "text": [
      "Fibonnaci(0) = 0\n",
      "Fibonnaci(1) = 1\n",
      "Fibonnaci(2) = 1\n",
      "Fibonnaci(3) = 2\n",
      "Fibonnaci(4) = 3\n",
      "Fibonnaci(5) = 5\n",
      "Fibonnaci(6) = 8\n",
      "Fibonnaci(7) = 13\n",
      "Fibonnaci(8) = 21\n",
      "Fibonnaci(9) = 34\n"
     ]
    }
   ],
   "source": [
    "for i in range(10):\n",
    "  print(f\"Fibonnaci({i}) = {fibonacci(i)}\")"
   ]
  }
 ],
 "metadata": {
  "kernelspec": {
   "display_name": ".venv",
   "language": "python",
   "name": "python3"
  },
  "language_info": {
   "codemirror_mode": {
    "name": "ipython",
    "version": 3
   },
   "file_extension": ".py",
   "mimetype": "text/x-python",
   "name": "python",
   "nbconvert_exporter": "python",
   "pygments_lexer": "ipython3",
   "version": "3.10.12"
  }
 },
 "nbformat": 4,
 "nbformat_minor": 5
}
