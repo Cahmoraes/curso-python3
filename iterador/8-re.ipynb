{
 "cells": [
  {
   "cell_type": "code",
   "execution_count": 6,
   "id": "2444bc68",
   "metadata": {},
   "outputs": [],
   "source": [
    "import re"
   ]
  },
  {
   "cell_type": "code",
   "execution_count": 73,
   "id": "6446f69f",
   "metadata": {},
   "outputs": [],
   "source": [
    "def explorar_expressao_regular(texto):\n",
    "  padrao = r\"\\bPython\\b\" # Palavra Python\n",
    "  if re.search(padrao, texto):\n",
    "    print(\"O padrão foi encontrado no texto.\")\n",
    "  else:\n",
    "    print(\"O padrão não foi encontrado no texto\")\n",
    "  padrao_email = r\"[a-zA-Z0-9._%+-]+@[a-zA-Z0-9.-]+\\.[a-zA-Z]{2,}\"\n",
    "  if not (emails := re.findall(padrao_email, texto)): \n",
    "    return\n",
    "  print(f\"E-mails encontrados: {emails}\")\n",
    "  # Substituir um padrão por outro\n",
    "  texto_substituido = re.sub(r\"Python\", \"JavaScript\", texto)\n",
    "  print(texto_substituido)\n",
    "  # Dividir uma string com base em padrão\n",
    "  texto_dividido = re.split(r\"\\s+\", texto)\n",
    "  print(texto_dividido)"
   ]
  },
  {
   "cell_type": "code",
   "execution_count": 74,
   "id": "97a43f73",
   "metadata": {},
   "outputs": [
    {
     "name": "stdout",
     "output_type": "stream",
     "text": [
      "O padrão foi encontrado no texto.\n",
      "E-mails encontrados: ['exemplo@dominio.com', 'fulano@email.com']\n",
      "\n",
      "  Olá, eu sou um desenvolvedor JavaScript.\n",
      "  Você pode me contatar em meu e-mail: exemplo@dominio.com.\n",
      "  JavaScript é uma linguagem de programação popular.\n",
      "  fulano@email.com\n",
      "\n",
      "['', 'Olá,', 'eu', 'sou', 'um', 'desenvolvedor', 'Python.', 'Você', 'pode', 'me', 'contatar', 'em', 'meu', 'e-mail:', 'exemplo@dominio.com.', 'Python', 'é', 'uma', 'linguagem', 'de', 'programação', 'popular.', 'fulano@email.com', '']\n"
     ]
    }
   ],
   "source": [
    "texto_exemplo = \"\"\"\n",
    "  Olá, eu sou um desenvolvedor Python.\n",
    "  Você pode me contatar em meu e-mail: exemplo@dominio.com.\n",
    "  Python é uma linguagem de programação popular.\n",
    "  fulano@email.com\n",
    "\"\"\"\n",
    "\n",
    "explorar_expressao_regular(texto_exemplo)\n"
   ]
  },
  {
   "cell_type": "code",
   "execution_count": null,
   "id": "d8e3667b",
   "metadata": {},
   "outputs": [],
   "source": []
  }
 ],
 "metadata": {
  "kernelspec": {
   "display_name": "Python 3",
   "language": "python",
   "name": "python3"
  },
  "language_info": {
   "codemirror_mode": {
    "name": "ipython",
    "version": 3
   },
   "file_extension": ".py",
   "mimetype": "text/x-python",
   "name": "python",
   "nbconvert_exporter": "python",
   "pygments_lexer": "ipython3",
   "version": "3.10.12"
  }
 },
 "nbformat": 4,
 "nbformat_minor": 5
}
