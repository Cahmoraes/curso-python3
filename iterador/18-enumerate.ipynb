{
 "cells": [
  {
   "cell_type": "markdown",
   "id": "a2f2114a",
   "metadata": {},
   "source": [
    "Enumerate\n",
    "- Consegue associar o valor e também o índice de uma lista"
   ]
  },
  {
   "cell_type": "code",
   "execution_count": 1,
   "id": "b9b01a99",
   "metadata": {},
   "outputs": [],
   "source": [
    "frutas = [\"Maça\", \"Banana\", \"Laranja\"]"
   ]
  },
  {
   "cell_type": "code",
   "execution_count": 5,
   "id": "a23e445a",
   "metadata": {},
   "outputs": [
    {
     "name": "stdout",
     "output_type": "stream",
     "text": [
      "0-Maça\n",
      "1-Banana\n",
      "2-Laranja\n"
     ]
    }
   ],
   "source": [
    "for indice ,fruta in enumerate(frutas):\n",
    "  print(f\"{indice}-{fruta}\")"
   ]
  },
  {
   "cell_type": "code",
   "execution_count": 6,
   "id": "cdabd091",
   "metadata": {},
   "outputs": [],
   "source": [
    "numeros = [10, 15, 20, 25, 30]"
   ]
  },
  {
   "cell_type": "code",
   "execution_count": 7,
   "id": "9b40e07e",
   "metadata": {},
   "outputs": [
    {
     "data": {
      "text/plain": [
       "{0: 10, 1: 15, 2: 20, 3: 25, 4: 30}"
      ]
     },
     "execution_count": 7,
     "metadata": {},
     "output_type": "execute_result"
    }
   ],
   "source": [
    "indices_valores = {\n",
    "  indice: valor for indice, valor in enumerate(numeros)\n",
    "}\n",
    "indices_valores"
   ]
  },
  {
   "cell_type": "code",
   "execution_count": 12,
   "id": "f3548701",
   "metadata": {},
   "outputs": [
    {
     "data": {
      "text/plain": [
       "{0: 10, 2: 20, 4: 30}"
      ]
     },
     "execution_count": 12,
     "metadata": {},
     "output_type": "execute_result"
    }
   ],
   "source": [
    "indices_pares = {\n",
    "  indice: valor[1] for indice, valor in enumerate(indices_valores.items()) if indice % 2 == 0\n",
    "}\n",
    "indices_pares"
   ]
  }
 ],
 "metadata": {
  "kernelspec": {
   "display_name": ".venv",
   "language": "python",
   "name": "python3"
  },
  "language_info": {
   "codemirror_mode": {
    "name": "ipython",
    "version": 3
   },
   "file_extension": ".py",
   "mimetype": "text/x-python",
   "name": "python",
   "nbconvert_exporter": "python",
   "pygments_lexer": "ipython3",
   "version": "3.10.12"
  }
 },
 "nbformat": 4,
 "nbformat_minor": 5
}
