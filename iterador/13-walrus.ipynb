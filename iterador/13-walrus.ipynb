{
 "cells": [
  {
   "cell_type": "markdown",
   "id": "946a2b96",
   "metadata": {},
   "source": [
    "Walrus\n",
    "- Esse operador permite atribuição de variáveis dentro de expressões\n",
    "- É usado com o operador :=\n",
    "- Permite que você atribua um valor a uma variável enquanto avalia a expressão"
   ]
  },
  {
   "cell_type": "code",
   "execution_count": 1,
   "id": "1344171d",
   "metadata": {},
   "outputs": [],
   "source": [
    "numeros = [5, 12, 3, 18, 7, 20]"
   ]
  },
  {
   "cell_type": "code",
   "execution_count": 5,
   "id": "38547628",
   "metadata": {},
   "outputs": [
    {
     "data": {
      "text/plain": [
       "[12, 18, 20]"
      ]
     },
     "execution_count": 5,
     "metadata": {},
     "output_type": "execute_result"
    }
   ],
   "source": [
    "# Filtrar e armazenar números maiores que 10\n",
    "numeros_maiores_que_10 = [\n",
    "  n for n in numeros if (maior := n) > 10 \n",
    "]\n",
    "numeros_maiores_que_10"
   ]
  },
  {
   "cell_type": "code",
   "execution_count": 6,
   "id": "ba82161f",
   "metadata": {},
   "outputs": [],
   "source": [
    "linhas_processadas = []\n",
    "with open(\"texto.txt\", \"r\", encoding=\"utf-8\") as arquivo:\n",
    "  for linha in arquivo:\n",
    "    if (linha_limpa := linha.strip()):\n",
    "      linhas_processadas.append(linha_limpa)"
   ]
  },
  {
   "cell_type": "code",
   "execution_count": 7,
   "id": "c8e1d4e7",
   "metadata": {},
   "outputs": [
    {
     "data": {
      "text/plain": [
       "['Olá Mundo',\n",
       " 'Este é uma linha de teste',\n",
       " 'Python é fácil',\n",
       " 'Ruby é interessante']"
      ]
     },
     "execution_count": 7,
     "metadata": {},
     "output_type": "execute_result"
    }
   ],
   "source": [
    "linhas_processadas"
   ]
  }
 ],
 "metadata": {
  "kernelspec": {
   "display_name": "Python 3",
   "language": "python",
   "name": "python3"
  },
  "language_info": {
   "codemirror_mode": {
    "name": "ipython",
    "version": 3
   },
   "file_extension": ".py",
   "mimetype": "text/x-python",
   "name": "python",
   "nbconvert_exporter": "python",
   "pygments_lexer": "ipython3",
   "version": "3.10.12"
  }
 },
 "nbformat": 4,
 "nbformat_minor": 5
}
