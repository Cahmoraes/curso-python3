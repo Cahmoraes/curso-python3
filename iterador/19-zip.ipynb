{
 "cells": [
  {
   "cell_type": "markdown",
   "id": "c19e2c38",
   "metadata": {},
   "source": [
    "Zip\n",
    "- É combinar múltiplos iteráveis (lista, ou tuplas) em um único iterável."
   ]
  },
  {
   "cell_type": "code",
   "execution_count": 5,
   "id": "a9183b6d",
   "metadata": {},
   "outputs": [],
   "source": [
    "nomes = [\"Alice\", \"Bob\", \"Charlie\"]\n",
    "idades = [25, 30, 35]"
   ]
  },
  {
   "cell_type": "code",
   "execution_count": 6,
   "id": "269c0f1f",
   "metadata": {},
   "outputs": [
    {
     "name": "stdout",
     "output_type": "stream",
     "text": [
      "Nome: Alice, Idade: 25\n",
      "Nome: Bob, Idade: 30\n",
      "Nome: Charlie, Idade: 35\n"
     ]
    }
   ],
   "source": [
    "for nome, idade in zip(nomes, idades):\n",
    "  print(f\"Nome: {nome}, Idade: {idade}\")"
   ]
  },
  {
   "cell_type": "code",
   "execution_count": 16,
   "id": "b16c3931",
   "metadata": {},
   "outputs": [
    {
     "data": {
      "text/plain": [
       "{'Alice': 25, 'Bob': 30, 'Charlie': 35}"
      ]
     },
     "execution_count": 16,
     "metadata": {},
     "output_type": "execute_result"
    }
   ],
   "source": [
    "pessoas = dict(zip(nomes, idades))\n",
    "pessoas"
   ]
  },
  {
   "cell_type": "code",
   "execution_count": 11,
   "id": "aa8aa7bb",
   "metadata": {},
   "outputs": [
    {
     "data": {
      "text/plain": [
       "{'Charlie': 35}"
      ]
     },
     "execution_count": 11,
     "metadata": {},
     "output_type": "execute_result"
    }
   ],
   "source": [
    "pessoas_acima_de_30 = {\n",
    "  nome: idade for nome, idade in pessoas.items() if idade > 30\n",
    "}\n",
    "pessoas_acima_de_30"
   ]
  }
 ],
 "metadata": {
  "kernelspec": {
   "display_name": ".venv",
   "language": "python",
   "name": "python3"
  },
  "language_info": {
   "codemirror_mode": {
    "name": "ipython",
    "version": 3
   },
   "file_extension": ".py",
   "mimetype": "text/x-python",
   "name": "python",
   "nbconvert_exporter": "python",
   "pygments_lexer": "ipython3",
   "version": "3.10.12"
  }
 },
 "nbformat": 4,
 "nbformat_minor": 5
}
