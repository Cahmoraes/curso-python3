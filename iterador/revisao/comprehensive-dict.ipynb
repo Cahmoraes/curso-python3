{
 "cells": [
  {
   "cell_type": "code",
   "execution_count": 2,
   "id": "c5bfb52e",
   "metadata": {},
   "outputs": [],
   "source": [
    "irmaos = {\n",
    "  \"caique\": {\n",
    "    \"idade\": 30,\n",
    "  },\n",
    "  \"thomas\": {\n",
    "    \"idade\": 22,\n",
    "  }\n",
    "}"
   ]
  },
  {
   "cell_type": "code",
   "execution_count": 35,
   "id": "c766d688",
   "metadata": {},
   "outputs": [
    {
     "data": {
      "text/plain": [
       "{'id-0': ('caique', {'idade': 30}), 'id-1': ('thomas', {'idade': 22})}"
      ]
     },
     "execution_count": 35,
     "metadata": {},
     "output_type": "execute_result"
    }
   ],
   "source": [
    "irmaos_enhancement = {\n",
    "  f\"id-{index}\": brother for index, brother in enumerate(irmaos.items())\n",
    "}\n",
    "irmaos_enhancement\n"
   ]
  }
 ],
 "metadata": {
  "kernelspec": {
   "display_name": ".venv",
   "language": "python",
   "name": "python3"
  },
  "language_info": {
   "codemirror_mode": {
    "name": "ipython",
    "version": 3
   },
   "file_extension": ".py",
   "mimetype": "text/x-python",
   "name": "python",
   "nbconvert_exporter": "python",
   "pygments_lexer": "ipython3",
   "version": "3.10.12"
  }
 },
 "nbformat": 4,
 "nbformat_minor": 5
}
