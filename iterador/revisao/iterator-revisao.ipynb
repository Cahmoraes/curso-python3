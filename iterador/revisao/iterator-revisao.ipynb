{
 "cells": [
  {
   "cell_type": "code",
   "execution_count": 13,
   "id": "461cdc1b",
   "metadata": {},
   "outputs": [],
   "source": [
    "class Produto:\n",
    "  def __init__(self, id, nome) -> None:\n",
    "    self.nome = nome\n",
    "    self.id = id\n",
    "    \n",
    "  def __iter__(self):\n",
    "    return self.iterator()\n",
    "\n",
    "  def iterator(self):\n",
    "    yield self.nome\n",
    "    yield self.id\n",
    "  # def __next__(self):\n",
    "  #   if self.count >= 3:\n",
    "  #     raise StopIteration\n",
    "  #   self.count += 1\n",
    "  #   return self.nome"
   ]
  },
  {
   "cell_type": "code",
   "execution_count": 14,
   "id": "0ae5344d",
   "metadata": {},
   "outputs": [
    {
     "name": "stdout",
     "output_type": "stream",
     "text": [
      "Dell\n",
      "123\n"
     ]
    }
   ],
   "source": [
    "notebook = Produto(123, \"Dell\")\n",
    "for prop in notebook:\n",
    "  print(prop)"
   ]
  }
 ],
 "metadata": {
  "kernelspec": {
   "display_name": "Python 3",
   "language": "python",
   "name": "python3"
  },
  "language_info": {
   "codemirror_mode": {
    "name": "ipython",
    "version": 3
   },
   "file_extension": ".py",
   "mimetype": "text/x-python",
   "name": "python",
   "nbconvert_exporter": "python",
   "pygments_lexer": "ipython3",
   "version": "3.10.12"
  }
 },
 "nbformat": 4,
 "nbformat_minor": 5
}
