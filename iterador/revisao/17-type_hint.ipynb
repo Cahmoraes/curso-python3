{
 "cells": [
  {
   "cell_type": "markdown",
   "id": "0f5a6b13",
   "metadata": {},
   "source": [
    "Type Hint\n",
    "- É uma maneira de indicar o tipo de variáveis, parâmetros e valores de retorno de funções."
   ]
  },
  {
   "cell_type": "code",
   "execution_count": null,
   "id": "f223d7e2",
   "metadata": {},
   "outputs": [],
   "source": [
    "def soma(a: int, b: int) -> int:\n",
    "  return a + b"
   ]
  },
  {
   "cell_type": "code",
   "execution_count": 7,
   "id": "3bdd34f2",
   "metadata": {},
   "outputs": [
    {
     "data": {
      "text/plain": [
       "3"
      ]
     },
     "execution_count": 7,
     "metadata": {},
     "output_type": "execute_result"
    }
   ],
   "source": [
    "soma(1, 2)"
   ]
  },
  {
   "cell_type": "code",
   "execution_count": 9,
   "id": "012354c8",
   "metadata": {},
   "outputs": [],
   "source": [
    "from typing import List"
   ]
  },
  {
   "cell_type": "code",
   "execution_count": null,
   "id": "4a62408a",
   "metadata": {},
   "outputs": [],
   "source": [
    "class Estudante:\n",
    "  def __init__(self, nome: str, notas: List[float]) -> None:\n",
    "    self.nome = nome\n",
    "    self.notas = notas\n",
    "    \n",
    "  def media(self) -> float:\n",
    "    return sum(self.notas) / len(self.notas)"
   ]
  },
  {
   "cell_type": "code",
   "execution_count": 12,
   "id": "5f420fc3",
   "metadata": {},
   "outputs": [],
   "source": [
    "def alunos_acima_da_media(alunos: List[Estudante], media_minima: float) -> list[str]:\n",
    "  return [aluno.nome for aluno in alunos if aluno.media() >= media_minima]"
   ]
  },
  {
   "cell_type": "code",
   "execution_count": 13,
   "id": "d79e4543",
   "metadata": {},
   "outputs": [
    {
     "data": {
      "text/plain": [
       "['Alice', 'Carlos']"
      ]
     },
     "execution_count": 13,
     "metadata": {},
     "output_type": "execute_result"
    }
   ],
   "source": [
    "alunos = [\n",
    "  Estudante(\"Alice\", [7.5, 8.0, 9.0]),\n",
    "  Estudante(\"Bob\", [6.0, 5.5, 7.0]),\n",
    "  Estudante(\"Carlos\", [8.5, 9.0, 10.0]),\n",
    "]\n",
    "resultados = alunos_acima_da_media(alunos, 8.0)\n",
    "resultados"
   ]
  }
 ],
 "metadata": {
  "kernelspec": {
   "display_name": ".venv",
   "language": "python",
   "name": "python3"
  },
  "language_info": {
   "codemirror_mode": {
    "name": "ipython",
    "version": 3
   },
   "file_extension": ".py",
   "mimetype": "text/x-python",
   "name": "python",
   "nbconvert_exporter": "python",
   "pygments_lexer": "ipython3",
   "version": "3.10.12"
  }
 },
 "nbformat": 4,
 "nbformat_minor": 5
}
